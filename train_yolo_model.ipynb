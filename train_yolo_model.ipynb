{
 "cells": [
  {
   "cell_type": "code",
   "execution_count": 14,
   "id": "initial_id",
   "metadata": {
    "collapsed": true,
    "ExecuteTime": {
     "end_time": "2025-08-31T19:45:36.622722Z",
     "start_time": "2025-08-31T19:45:36.618808Z"
    }
   },
   "outputs": [],
   "source": [
    "from ultralytics import YOLO"
   ]
  },
  {
   "cell_type": "code",
   "execution_count": 15,
   "outputs": [],
   "source": [
    "# Resume\n",
    "# model = YOLO(\"runs/detect/train4/weights/last.pt\") # or \"yolov10n.yaml\"\n",
    "# results = model.train(resume=True)\n"
   ],
   "metadata": {
    "collapsed": false,
    "ExecuteTime": {
     "end_time": "2025-08-31T19:45:36.629492Z",
     "start_time": "2025-08-31T19:45:36.624038Z"
    }
   },
   "id": "fbfb60b9d8baeda8"
  },
  {
   "cell_type": "code",
   "execution_count": 16,
   "outputs": [],
   "source": [
    "# Start over\n",
    "# model = YOLO(\"yolov10n.pt\") # or \"yolov10n.yaml\"\n",
    "# model.train(data=\"data.yaml\", epochs=2, imgsz=640, device=\"mps\")\n"
   ],
   "metadata": {
    "collapsed": false,
    "ExecuteTime": {
     "end_time": "2025-08-31T19:45:36.629652Z",
     "start_time": "2025-08-31T19:45:36.626876Z"
    }
   },
   "id": "59f54c3aeb809ff4"
  },
  {
   "cell_type": "code",
   "execution_count": 17,
   "outputs": [
    {
     "name": "stdout",
     "output_type": "stream",
     "text": [
      "image 1/1 /Users/danieltuttle/projects/yolo/rando/tomatos.jpg: 448x640 (no detections), 84.9ms\n",
      "Speed: 1.6ms preprocess, 84.9ms inference, 0.2ms postprocess per image at shape (1, 3, 448, 640)\n",
      "Results saved to \u001B[1m/Users/danieltuttle/projects/yolo/runs/detect/predict3\u001B[0m\n"
     ]
    },
    {
     "data": {
      "text/plain": "[ultralytics.engine.results.Results object with attributes:\n \n boxes: ultralytics.engine.results.Boxes object\n keypoints: None\n masks: None\n names: {0: 'person', 1: 'car', 2: 'chair', 3: 'bottle', 4: 'pottedplant', 5: 'bird', 6: 'dog', 7: 'sofa', 8: 'bicycle', 9: 'horse', 10: 'boat', 11: 'motorbike', 12: 'cat', 13: 'tvmonitor', 14: 'cow', 15: 'sheep', 16: 'aeroplane', 17: 'train', 18: 'diningtable', 19: 'bus'}\n obb: None\n orig_img: array([[[ 14, 118,  31],\n         [ 16, 120,  33],\n         [ 20, 122,  34],\n         ...,\n         [ 35,  94,  19],\n         [ 28,  86,  15],\n         [ 24,  81,  13]],\n \n        [[ 15, 104,  24],\n         [ 17, 106,  26],\n         [ 20, 111,  26],\n         ...,\n         [ 44, 108,  26],\n         [ 37,  99,  23],\n         [ 33,  93,  22]],\n \n        [[ 19,  87,  16],\n         [ 22,  90,  19],\n         [ 23,  95,  19],\n         ...,\n         [ 53, 121,  32],\n         [ 46, 113,  28],\n         [ 42, 108,  27]],\n \n        ...,\n \n        [[ 22,  83, 133],\n         [ 20,  79, 129],\n         [ 18,  77, 126],\n         ...,\n         [192, 169, 137],\n         [201, 179, 144],\n         [206, 184, 149]],\n \n        [[ 32,  80, 128],\n         [ 27,  76, 124],\n         [ 25,  74, 122],\n         ...,\n         [142, 112,  71],\n         [152, 122,  81],\n         [152, 123,  79]],\n \n        [[ 25,  59, 105],\n         [ 20,  56, 102],\n         [ 17,  55, 103],\n         ...,\n         [194, 157, 107],\n         [194, 157, 105],\n         [181, 145,  91]]], dtype=uint8)\n orig_shape: (408, 612)\n path: '/Users/danieltuttle/projects/yolo/rando/tomatos.jpg'\n probs: None\n save_dir: '/Users/danieltuttle/projects/yolo/runs/detect/predict3'\n speed: {'preprocess': 1.613959000678733, 'inference': 84.87991699803388, 'postprocess': 0.19758300186367705}]"
     },
     "execution_count": 17,
     "metadata": {},
     "output_type": "execute_result"
    }
   ],
   "source": [
    "model = YOLO(\"runs/detect/train4/weights/best.pt\")\n",
    "\n",
    "model.predict(\"rando/tomatos.jpg\", save=True, imgsz=640, conf=0.5)"
   ],
   "metadata": {
    "collapsed": false,
    "ExecuteTime": {
     "end_time": "2025-08-31T19:45:36.831531Z",
     "start_time": "2025-08-31T19:45:36.631845Z"
    }
   },
   "id": "6a2b86a1885d2713"
  }
 ],
 "metadata": {
  "kernelspec": {
   "display_name": "Python 3",
   "language": "python",
   "name": "python3"
  },
  "language_info": {
   "codemirror_mode": {
    "name": "ipython",
    "version": 2
   },
   "file_extension": ".py",
   "mimetype": "text/x-python",
   "name": "python",
   "nbconvert_exporter": "python",
   "pygments_lexer": "ipython2",
   "version": "2.7.6"
  }
 },
 "nbformat": 4,
 "nbformat_minor": 5
}
